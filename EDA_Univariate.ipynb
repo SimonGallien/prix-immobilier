{
 "cells": [
  {
   "cell_type": "markdown",
   "id": "cf11877f",
   "metadata": {},
   "source": [
    "# Explications des variables:\n",
    "- OverallQual : Qualité globale des matériaux et de la finition. Souvent très corrélé au prix de vente. (note sur 10, entier)\n",
    "- GrLivArea : Surface habitable hors sous-sol. Directement liée à la taille de la maison.\n",
    "- TotalBsmtSF : Superficie totale du sous-sol. Ajoute une grande valeur à la propriété.\n",
    "- 1stFlrSF : Superficie du rez-de-chaussée. Indique la taille de la maison.\n",
    "- YearBuilt : Année de construction. Les maisons plus récentes ont tendance à se vendre à un prix plus élevé.\n",
    "- YearRemodAdd : Année de rénovation. Les rénovations récentes peuvent augmenter le prix.\n",
    "- GarageCars : Capacité du garage en nombre de voitures. Un élément clé pour de nombreux acheteurs.\n",
    "- GarageArea : Taille du garage en pieds carrés.\n",
    "- FullBath : Nombre de salles de bains complètes. Un facteur important pour le confort de la maison.\n",
    "- TotRmsAbvGrd : Nombre total de pièces au-dessus du sol (hors salles de bains). Plus il y a de pièces, plus le bien est généralement cher.\n",
    "- KitchenQual : Qualité de la cuisine. Une cuisine de haute qualité ajoute une grande valeur.\n",
    "- Fireplaces : Nombre de cheminées. Une caractéristique qui peut augmenter l'attrait et la valeur d'une propriété.\n",
    "- LotArea : Surface totale du terrain. La taille du lot est un facteur important, notamment dans les zones urbaines.\n",
    "- Neighborhood : Emplacement physique au sein des limites de la ville. L'emplacement a un impact majeur sur les prix de l'immobilier.\n",
    "- ExterQual : Qualité du matériau extérieur. Un indicateur de la qualité globale de la maison.\n",
    "- SalePrice : Prix de vente de la maison. C'est la variable cible que nous devons prédire."
   ]
  },
  {
   "cell_type": "markdown",
   "id": "320a0998",
   "metadata": {},
   "source": [
    "# Libraries"
   ]
  },
  {
   "cell_type": "code",
   "execution_count": 24,
   "id": "3884e9b3",
   "metadata": {},
   "outputs": [],
   "source": [
    "import pandas as pd\n",
    "import matplotlib.pyplot as plt\n",
    "import seaborn as sns\n",
    "from scipy.stats import f_oneway"
   ]
  },
  {
   "cell_type": "markdown",
   "id": "ae0e05e9",
   "metadata": {},
   "source": [
    "# Variable continues & discrètes"
   ]
  },
  {
   "cell_type": "markdown",
   "id": "c22978ad",
   "metadata": {},
   "source": [
    "Variables discrètes :\n",
    "- GarageCars\n",
    "- FullBath\n",
    "- TotRmsAbvGrd\n",
    "- KitchenQual\n",
    "- Fireplaces\n",
    "- Neighborhood\n",
    "- ExterQual\n",
    "\n",
    "\n",
    "Variables continues :\n",
    "- OverallQual\n",
    "- GrLivArea\n",
    "- TotalBsmtSF\n",
    "- 1stFlrSF\n",
    "- YearBuilt\n",
    "- YearRemodAdd\n",
    "- GarageArea\n",
    "- LotArea\n",
    "- SalePrice"
   ]
  },
  {
   "cell_type": "code",
   "execution_count": 4,
   "id": "79519f19",
   "metadata": {},
   "outputs": [
    {
     "data": {
      "text/html": [
       "<div>\n",
       "<style scoped>\n",
       "    .dataframe tbody tr th:only-of-type {\n",
       "        vertical-align: middle;\n",
       "    }\n",
       "\n",
       "    .dataframe tbody tr th {\n",
       "        vertical-align: top;\n",
       "    }\n",
       "\n",
       "    .dataframe thead th {\n",
       "        text-align: right;\n",
       "    }\n",
       "</style>\n",
       "<table border=\"1\" class=\"dataframe\">\n",
       "  <thead>\n",
       "    <tr style=\"text-align: right;\">\n",
       "      <th></th>\n",
       "      <th>OverallQual</th>\n",
       "      <th>GrLivArea</th>\n",
       "      <th>TotalBsmtSF</th>\n",
       "      <th>1stFlrSF</th>\n",
       "      <th>YearBuilt</th>\n",
       "      <th>YearRemodAdd</th>\n",
       "      <th>GarageCars</th>\n",
       "      <th>GarageArea</th>\n",
       "      <th>FullBath</th>\n",
       "      <th>TotRmsAbvGrd</th>\n",
       "      <th>KitchenQual</th>\n",
       "      <th>Fireplaces</th>\n",
       "      <th>LotArea</th>\n",
       "      <th>Neighborhood</th>\n",
       "      <th>ExterQual</th>\n",
       "      <th>SalePrice</th>\n",
       "    </tr>\n",
       "  </thead>\n",
       "  <tbody>\n",
       "    <tr>\n",
       "      <th>0</th>\n",
       "      <td>7</td>\n",
       "      <td>1710</td>\n",
       "      <td>856</td>\n",
       "      <td>856</td>\n",
       "      <td>2003</td>\n",
       "      <td>2003</td>\n",
       "      <td>2</td>\n",
       "      <td>548</td>\n",
       "      <td>2</td>\n",
       "      <td>8</td>\n",
       "      <td>Gd</td>\n",
       "      <td>0</td>\n",
       "      <td>8450</td>\n",
       "      <td>CollgCr</td>\n",
       "      <td>Gd</td>\n",
       "      <td>208500</td>\n",
       "    </tr>\n",
       "    <tr>\n",
       "      <th>1</th>\n",
       "      <td>6</td>\n",
       "      <td>1262</td>\n",
       "      <td>1262</td>\n",
       "      <td>1262</td>\n",
       "      <td>1976</td>\n",
       "      <td>1976</td>\n",
       "      <td>2</td>\n",
       "      <td>460</td>\n",
       "      <td>2</td>\n",
       "      <td>6</td>\n",
       "      <td>TA</td>\n",
       "      <td>1</td>\n",
       "      <td>9600</td>\n",
       "      <td>Veenker</td>\n",
       "      <td>TA</td>\n",
       "      <td>181500</td>\n",
       "    </tr>\n",
       "    <tr>\n",
       "      <th>2</th>\n",
       "      <td>7</td>\n",
       "      <td>1786</td>\n",
       "      <td>920</td>\n",
       "      <td>920</td>\n",
       "      <td>2001</td>\n",
       "      <td>2002</td>\n",
       "      <td>2</td>\n",
       "      <td>608</td>\n",
       "      <td>2</td>\n",
       "      <td>6</td>\n",
       "      <td>Gd</td>\n",
       "      <td>1</td>\n",
       "      <td>11250</td>\n",
       "      <td>CollgCr</td>\n",
       "      <td>Gd</td>\n",
       "      <td>223500</td>\n",
       "    </tr>\n",
       "    <tr>\n",
       "      <th>3</th>\n",
       "      <td>8</td>\n",
       "      <td>1694</td>\n",
       "      <td>1686</td>\n",
       "      <td>1694</td>\n",
       "      <td>2004</td>\n",
       "      <td>2005</td>\n",
       "      <td>2</td>\n",
       "      <td>636</td>\n",
       "      <td>2</td>\n",
       "      <td>7</td>\n",
       "      <td>Gd</td>\n",
       "      <td>1</td>\n",
       "      <td>10084</td>\n",
       "      <td>Somerst</td>\n",
       "      <td>Gd</td>\n",
       "      <td>307000</td>\n",
       "    </tr>\n",
       "    <tr>\n",
       "      <th>4</th>\n",
       "      <td>7</td>\n",
       "      <td>1774</td>\n",
       "      <td>952</td>\n",
       "      <td>1022</td>\n",
       "      <td>1931</td>\n",
       "      <td>1950</td>\n",
       "      <td>2</td>\n",
       "      <td>468</td>\n",
       "      <td>2</td>\n",
       "      <td>8</td>\n",
       "      <td>TA</td>\n",
       "      <td>2</td>\n",
       "      <td>6120</td>\n",
       "      <td>OldTown</td>\n",
       "      <td>TA</td>\n",
       "      <td>129900</td>\n",
       "    </tr>\n",
       "  </tbody>\n",
       "</table>\n",
       "</div>"
      ],
      "text/plain": [
       "   OverallQual  GrLivArea  TotalBsmtSF  1stFlrSF  YearBuilt  YearRemodAdd  \\\n",
       "0            7       1710          856       856       2003          2003   \n",
       "1            6       1262         1262      1262       1976          1976   \n",
       "2            7       1786          920       920       2001          2002   \n",
       "3            8       1694         1686      1694       2004          2005   \n",
       "4            7       1774          952      1022       1931          1950   \n",
       "\n",
       "   GarageCars  GarageArea  FullBath  TotRmsAbvGrd KitchenQual  Fireplaces  \\\n",
       "0           2         548         2             8          Gd           0   \n",
       "1           2         460         2             6          TA           1   \n",
       "2           2         608         2             6          Gd           1   \n",
       "3           2         636         2             7          Gd           1   \n",
       "4           2         468         2             8          TA           2   \n",
       "\n",
       "   LotArea Neighborhood ExterQual  SalePrice  \n",
       "0     8450      CollgCr        Gd     208500  \n",
       "1     9600      Veenker        TA     181500  \n",
       "2    11250      CollgCr        Gd     223500  \n",
       "3    10084      Somerst        Gd     307000  \n",
       "4     6120      OldTown        TA     129900  "
      ]
     },
     "execution_count": 4,
     "metadata": {},
     "output_type": "execute_result"
    }
   ],
   "source": [
    "df = pd.read_csv(\"kaggle_train_set.csv\")\n",
    "df.head()"
   ]
  },
  {
   "cell_type": "code",
   "execution_count": 3,
   "id": "4398ba02",
   "metadata": {},
   "outputs": [
    {
     "name": "stdout",
     "output_type": "stream",
     "text": [
      "<class 'pandas.core.frame.DataFrame'>\n",
      "RangeIndex: 1180 entries, 0 to 1179\n",
      "Data columns (total 16 columns):\n",
      " #   Column        Non-Null Count  Dtype \n",
      "---  ------        --------------  ----- \n",
      " 0   OverallQual   1180 non-null   int64 \n",
      " 1   GrLivArea     1180 non-null   int64 \n",
      " 2   TotalBsmtSF   1180 non-null   int64 \n",
      " 3   1stFlrSF      1180 non-null   int64 \n",
      " 4   YearBuilt     1180 non-null   int64 \n",
      " 5   YearRemodAdd  1180 non-null   int64 \n",
      " 6   GarageCars    1180 non-null   int64 \n",
      " 7   GarageArea    1180 non-null   int64 \n",
      " 8   FullBath      1180 non-null   int64 \n",
      " 9   TotRmsAbvGrd  1180 non-null   int64 \n",
      " 10  KitchenQual   1180 non-null   object\n",
      " 11  Fireplaces    1180 non-null   int64 \n",
      " 12  LotArea       1180 non-null   int64 \n",
      " 13  Neighborhood  1180 non-null   object\n",
      " 14  ExterQual     1180 non-null   object\n",
      " 15  SalePrice     1180 non-null   int64 \n",
      "dtypes: int64(13), object(3)\n",
      "memory usage: 147.6+ KB\n"
     ]
    }
   ],
   "source": [
    "df.info()"
   ]
  },
  {
   "cell_type": "code",
   "execution_count": 5,
   "id": "6e9dc000",
   "metadata": {},
   "outputs": [
    {
     "data": {
      "text/plain": [
       "OverallQual      10\n",
       "GrLivArea       761\n",
       "TotalBsmtSF     638\n",
       "1stFlrSF        666\n",
       "YearBuilt       110\n",
       "YearRemodAdd     61\n",
       "GarageCars        5\n",
       "GarageArea      390\n",
       "FullBath          4\n",
       "TotRmsAbvGrd     12\n",
       "KitchenQual       4\n",
       "Fireplaces        4\n",
       "LotArea         882\n",
       "Neighborhood     25\n",
       "ExterQual         4\n",
       "SalePrice       591\n",
       "dtype: int64"
      ]
     },
     "execution_count": 5,
     "metadata": {},
     "output_type": "execute_result"
    }
   ],
   "source": [
    "df.nunique()"
   ]
  },
  {
   "cell_type": "markdown",
   "id": "e1f983b4",
   "metadata": {},
   "source": [
    "# 0. Analyse de SalePrice\n",
    "SalePrice : Prix de vente de la maison. C'est la variable cible que nous devons prédire."
   ]
  },
  {
   "cell_type": "markdown",
   "id": "7fcf0122",
   "metadata": {},
   "source": [
    "# 1. Analyse de OverallQual\n",
    "\n",
    "OverallQual : Qualité globale des matériaux et de la finition. Souvent très corrélé au prix de vente. (note sur 10, entier)"
   ]
  },
  {
   "cell_type": "markdown",
   "id": "8605d821",
   "metadata": {},
   "source": [
    "- 50% des biens immobiliers ont une note comprise entre 5/10 et 7/10\n",
    "- La médiane des notes est de 6/10\n",
    "- Il y a une forte corrélation entre le prix et le score de qualité global"
   ]
  },
  {
   "cell_type": "code",
   "execution_count": 12,
   "id": "04b44344",
   "metadata": {},
   "outputs": [
    {
     "data": {
      "text/plain": [
       "count    1180.000000\n",
       "mean        6.095763\n",
       "std         1.383956\n",
       "min         1.000000\n",
       "25%         5.000000\n",
       "50%         6.000000\n",
       "75%         7.000000\n",
       "max        10.000000\n",
       "Name: OverallQual, dtype: float64"
      ]
     },
     "execution_count": 12,
     "metadata": {},
     "output_type": "execute_result"
    }
   ],
   "source": [
    "df[\"OverallQual\"].describe()"
   ]
  },
  {
   "cell_type": "code",
   "execution_count": 17,
   "id": "3a8c1fa5",
   "metadata": {},
   "outputs": [
    {
     "data": {
      "text/plain": [
       "Text(0.5, 0.98, 'Répartition de la variable OverallQual dans ce jeu de donnée')"
      ]
     },
     "execution_count": 17,
     "metadata": {},
     "output_type": "execute_result"
    },
    {
     "data": {
      "image/png": "[encoded data removed]",
      "text/plain": [
       "<Figure size 640x480 with 2 Axes>"
      ]
     },
     "metadata": {},
     "output_type": "display_data"
    }
   ],
   "source": [
    "fig, ax = plt.subplots(2,1, sharex=True)\n",
    "sns.histplot(data=df, x=\"OverallQual\", ax=ax[0])\n",
    "sns.boxplot(data=df, x=\"OverallQual\", ax=ax[1])\n",
    "plt.suptitle(\"Répartition de la variable OverallQual dans ce jeu de donnée\")"
   ]
  },
  {
   "cell_type": "code",
   "execution_count": 29,
   "id": "f808cba3",
   "metadata": {},
   "outputs": [
    {
     "data": {
      "text/html": [
       "<div>\n",
       "<style scoped>\n",
       "    .dataframe tbody tr th:only-of-type {\n",
       "        vertical-align: middle;\n",
       "    }\n",
       "\n",
       "    .dataframe tbody tr th {\n",
       "        vertical-align: top;\n",
       "    }\n",
       "\n",
       "    .dataframe thead th {\n",
       "        text-align: right;\n",
       "    }\n",
       "</style>\n",
       "<table border=\"1\" class=\"dataframe\">\n",
       "  <thead>\n",
       "    <tr style=\"text-align: right;\">\n",
       "      <th></th>\n",
       "      <th>count</th>\n",
       "      <th>mean</th>\n",
       "      <th>std</th>\n",
       "      <th>min</th>\n",
       "      <th>25%</th>\n",
       "      <th>50%</th>\n",
       "      <th>75%</th>\n",
       "      <th>max</th>\n",
       "    </tr>\n",
       "    <tr>\n",
       "      <th>OverallQual</th>\n",
       "      <th></th>\n",
       "      <th></th>\n",
       "      <th></th>\n",
       "      <th></th>\n",
       "      <th></th>\n",
       "      <th></th>\n",
       "      <th></th>\n",
       "      <th></th>\n",
       "    </tr>\n",
       "  </thead>\n",
       "  <tbody>\n",
       "    <tr>\n",
       "      <th>1</th>\n",
       "      <td>1.0</td>\n",
       "      <td>39300.000000</td>\n",
       "      <td>NaN</td>\n",
       "      <td>39300.0</td>\n",
       "      <td>39300.0</td>\n",
       "      <td>39300.0</td>\n",
       "      <td>39300.0</td>\n",
       "      <td>39300.0</td>\n",
       "    </tr>\n",
       "    <tr>\n",
       "      <th>2</th>\n",
       "      <td>3.0</td>\n",
       "      <td>51770.333333</td>\n",
       "      <td>14254.200796</td>\n",
       "      <td>35311.0</td>\n",
       "      <td>47655.5</td>\n",
       "      <td>60000.0</td>\n",
       "      <td>60000.0</td>\n",
       "      <td>60000.0</td>\n",
       "    </tr>\n",
       "    <tr>\n",
       "      <th>3</th>\n",
       "      <td>16.0</td>\n",
       "      <td>88779.687500</td>\n",
       "      <td>25734.275488</td>\n",
       "      <td>37900.0</td>\n",
       "      <td>75500.0</td>\n",
       "      <td>86250.0</td>\n",
       "      <td>98100.0</td>\n",
       "      <td>139600.0</td>\n",
       "    </tr>\n",
       "    <tr>\n",
       "      <th>4</th>\n",
       "      <td>90.0</td>\n",
       "      <td>103364.955556</td>\n",
       "      <td>24822.193100</td>\n",
       "      <td>34900.0</td>\n",
       "      <td>85050.0</td>\n",
       "      <td>104050.0</td>\n",
       "      <td>120125.0</td>\n",
       "      <td>161500.0</td>\n",
       "    </tr>\n",
       "    <tr>\n",
       "      <th>5</th>\n",
       "      <td>328.0</td>\n",
       "      <td>133137.420732</td>\n",
       "      <td>27247.284634</td>\n",
       "      <td>55993.0</td>\n",
       "      <td>117000.0</td>\n",
       "      <td>132750.0</td>\n",
       "      <td>146625.0</td>\n",
       "      <td>228950.0</td>\n",
       "    </tr>\n",
       "    <tr>\n",
       "      <th>6</th>\n",
       "      <td>307.0</td>\n",
       "      <td>160340.456026</td>\n",
       "      <td>36800.195323</td>\n",
       "      <td>76000.0</td>\n",
       "      <td>136700.0</td>\n",
       "      <td>159000.0</td>\n",
       "      <td>181000.0</td>\n",
       "      <td>277000.0</td>\n",
       "    </tr>\n",
       "    <tr>\n",
       "      <th>7</th>\n",
       "      <td>255.0</td>\n",
       "      <td>208301.407843</td>\n",
       "      <td>44599.793620</td>\n",
       "      <td>82500.0</td>\n",
       "      <td>179570.0</td>\n",
       "      <td>200141.0</td>\n",
       "      <td>233500.0</td>\n",
       "      <td>375000.0</td>\n",
       "    </tr>\n",
       "    <tr>\n",
       "      <th>8</th>\n",
       "      <td>126.0</td>\n",
       "      <td>274905.095238</td>\n",
       "      <td>67327.231812</td>\n",
       "      <td>122000.0</td>\n",
       "      <td>235000.0</td>\n",
       "      <td>267000.0</td>\n",
       "      <td>309750.0</td>\n",
       "      <td>538000.0</td>\n",
       "    </tr>\n",
       "    <tr>\n",
       "      <th>9</th>\n",
       "      <td>37.0</td>\n",
       "      <td>364166.000000</td>\n",
       "      <td>76969.669221</td>\n",
       "      <td>239000.0</td>\n",
       "      <td>319900.0</td>\n",
       "      <td>350000.0</td>\n",
       "      <td>385000.0</td>\n",
       "      <td>611657.0</td>\n",
       "    </tr>\n",
       "    <tr>\n",
       "      <th>10</th>\n",
       "      <td>17.0</td>\n",
       "      <td>420564.176471</td>\n",
       "      <td>144616.508006</td>\n",
       "      <td>160000.0</td>\n",
       "      <td>337500.0</td>\n",
       "      <td>426000.0</td>\n",
       "      <td>466500.0</td>\n",
       "      <td>755000.0</td>\n",
       "    </tr>\n",
       "  </tbody>\n",
       "</table>\n",
       "</div>"
      ],
      "text/plain": [
       "             count           mean            std       min       25%  \\\n",
       "OverallQual                                                            \n",
       "1              1.0   39300.000000            NaN   39300.0   39300.0   \n",
       "2              3.0   51770.333333   14254.200796   35311.0   47655.5   \n",
       "3             16.0   88779.687500   25734.275488   37900.0   75500.0   \n",
       "4             90.0  103364.955556   24822.193100   34900.0   85050.0   \n",
       "5            328.0  133137.420732   27247.284634   55993.0  117000.0   \n",
       "6            307.0  160340.456026   36800.195323   76000.0  136700.0   \n",
       "7            255.0  208301.407843   44599.793620   82500.0  179570.0   \n",
       "8            126.0  274905.095238   67327.231812  122000.0  235000.0   \n",
       "9             37.0  364166.000000   76969.669221  239000.0  319900.0   \n",
       "10            17.0  420564.176471  144616.508006  160000.0  337500.0   \n",
       "\n",
       "                  50%       75%       max  \n",
       "OverallQual                                \n",
       "1             39300.0   39300.0   39300.0  \n",
       "2             60000.0   60000.0   60000.0  \n",
       "3             86250.0   98100.0  139600.0  \n",
       "4            104050.0  120125.0  161500.0  \n",
       "5            132750.0  146625.0  228950.0  \n",
       "6            159000.0  181000.0  277000.0  \n",
       "7            200141.0  233500.0  375000.0  \n",
       "8            267000.0  309750.0  538000.0  \n",
       "9            350000.0  385000.0  611657.0  \n",
       "10           426000.0  466500.0  755000.0  "
      ]
     },
     "execution_count": 29,
     "metadata": {},
     "output_type": "execute_result"
    }
   ],
   "source": [
    "df.groupby(\"OverallQual\")[\"SalePrice\"].describe()"
   ]
  },
  {
   "cell_type": "code",
   "execution_count": 19,
   "id": "13c6cc72",
   "metadata": {},
   "outputs": [
    {
     "data": {
      "text/plain": [
       "<Axes: xlabel='OverallQual'>"
      ]
     },
     "execution_count": 19,
     "metadata": {},
     "output_type": "execute_result"
    },
    {
     "data": {
      "image/png": "[encoded data removed]",
      "text/plain": [
       "<Figure size 640x480 with 1 Axes>"
      ]
     },
     "metadata": {},
     "output_type": "display_data"
    }
   ],
   "source": [
    "df.groupby(\"OverallQual\")[\"SalePrice\"].mean().sort_index().plot(kind=\"bar\")"
   ]
  },
  {
   "cell_type": "markdown",
   "id": "fa6eaeff",
   "metadata": {},
   "source": [
    "# Test de ANOVA"
   ]
  },
  {
   "cell_type": "code",
   "execution_count": 30,
   "id": "b6590dce",
   "metadata": {},
   "outputs": [
    {
     "data": {
      "text/plain": [
       "OverallQual\n",
       "1      39300.00\n",
       "2      51770.33\n",
       "3      88779.69\n",
       "4     103364.96\n",
       "5     133137.42\n",
       "6     160340.46\n",
       "7     208301.41\n",
       "8     274905.10\n",
       "9     364166.00\n",
       "10    420564.18\n",
       "Name: SalePrice, dtype: float64"
      ]
     },
     "execution_count": 30,
     "metadata": {},
     "output_type": "execute_result"
    }
   ],
   "source": [
    "df.groupby(\"OverallQual\")[\"SalePrice\"].mean().round(2)"
   ]
  },
  {
   "cell_type": "code",
   "execution_count": 34,
   "id": "48cc77b4",
   "metadata": {},
   "outputs": [
    {
     "name": "stdout",
     "output_type": "stream",
     "text": [
      "Ho : 'La moyenne des prix de vente est la même quel que soit le niveau de qualité.'\n",
      "On rejette Ho\n",
      "p_value = 5.1684140235428114e-288\n"
     ]
    }
   ],
   "source": [
    "print(\"Ho : 'La moyenne des prix de vente est la même quel que soit le niveau de qualité.'\")\n",
    "\n",
    "alpha = 0.02\n",
    "p_value = f_oneway(*df.groupby(\"OverallQual\")[\"SalePrice\"].apply(list)).pvalue\n",
    "\n",
    "if p_value < alpha:\n",
    "    print(\"On rejette Ho\")\n",
    "else:\n",
    "    print(\"On ne rejette pas Ho\")\n",
    "    \n",
    "print(f\"p_value = {p_value}\")"
   ]
  },
  {
   "cell_type": "markdown",
   "id": "2825dd77",
   "metadata": {},
   "source": [
    "# 2. Analyse de GarageCars\n",
    "GarageCars : Capacité du garage en nombre de voitures. Un élément clé pour de nombreux acheteurs."
   ]
  },
  {
   "cell_type": "markdown",
   "id": "5f0b2654",
   "metadata": {},
   "source": [
    "# 3. Analyse de FullBath\n",
    "FullBath : Nombre de salles de bains complètes. Un facteur important pour le confort de la maison."
   ]
  },
  {
   "cell_type": "markdown",
   "id": "04421da6",
   "metadata": {},
   "source": [
    "# 4. Analyse de TotRmsAbvGrd\n",
    "TotRmsAbvGrd : Nombre total de pièces au-dessus du sol (hors salles de bains). Plus il y a de pièces, plus le bien est généralement cher."
   ]
  },
  {
   "cell_type": "markdown",
   "id": "a4a0a90b",
   "metadata": {},
   "source": [
    "# 5. Analyse de KitchenQual\n",
    "KitchenQual : Qualité de la cuisine. Une cuisine de haute qualité ajoute une grande valeur."
   ]
  },
  {
   "cell_type": "markdown",
   "id": "0f06568b",
   "metadata": {},
   "source": [
    "# 6. Analyse de Fireplaces\n",
    "Fireplaces : Nombre de cheminées. Une caractéristique qui peut augmenter l'attrait et la valeur d'une propriété."
   ]
  },
  {
   "cell_type": "markdown",
   "id": "088632ee",
   "metadata": {},
   "source": [
    "# 7. Analyse de Neighborhood\n",
    "Neighborhood : Emplacement physique au sein des limites de la ville. L'emplacement a un impact majeur sur les prix de l'immobilier."
   ]
  },
  {
   "cell_type": "markdown",
   "id": "40740661",
   "metadata": {},
   "source": [
    "# 8. Analyse de ExterQual\n",
    "ExterQual : Qualité du matériau extérieur. Un indicateur de la qualité globale de la maison."
   ]
  },
  {
   "cell_type": "markdown",
   "id": "13647881",
   "metadata": {},
   "source": [
    "# 9. Analyse de GrLivArea\n",
    "GrLivArea : Surface habitable hors sous-sol. Directement liée à la taille de la maison."
   ]
  },
  {
   "cell_type": "markdown",
   "id": "126356e6",
   "metadata": {},
   "source": [
    "# 10. Analyse de TotalBsmtSF\n",
    "TotalBsmtSF : Superficie totale du sous-sol. Ajoute une grande valeur à la propriété."
   ]
  },
  {
   "cell_type": "markdown",
   "id": "9de36fa5",
   "metadata": {},
   "source": [
    "# 11. Analyse de 1stFlrSF\n",
    "1stFlrSF : Superficie du rez-de-chaussée. Indique la taille de la maison."
   ]
  },
  {
   "cell_type": "markdown",
   "id": "23c5d18f",
   "metadata": {},
   "source": [
    "# 12. Analyse de YearBuilt\n",
    "YearBuilt : Année de construction. Les maisons plus récentes ont tendance à se vendre à un prix plus élevé."
   ]
  },
  {
   "cell_type": "markdown",
   "id": "e40bcb22",
   "metadata": {},
   "source": [
    "# 13. Analyse de YearRemodAdd\n",
    "YearRemodAdd : Année de rénovation. Les rénovations récentes peuvent augmenter le prix."
   ]
  },
  {
   "cell_type": "markdown",
   "id": "3db47de9",
   "metadata": {},
   "source": [
    "# 14. Analyse de GarageArea\n",
    "GarageArea : Taille du garage en pieds carrés."
   ]
  },
  {
   "cell_type": "markdown",
   "id": "040984c6",
   "metadata": {},
   "source": [
    "# 15. Analyse de LotArea\n",
    "LotArea : Surface totale du terrain. La taille du lot est un facteur important, notamment dans les zones urbaines."
   ]
  }
 ],
 "metadata": {
  "kernelspec": {
   "display_name": ".venv",
   "language": "python",
   "name": "python3"
  },
  "language_info": {
   "codemirror_mode": {
    "name": "ipython",
    "version": 3
   },
   "file_extension": ".py",
   "mimetype": "text/x-python",
   "name": "python",
   "nbconvert_exporter": "python",
   "pygments_lexer": "ipython3",
   "version": "3.12.3"
  }
 },
 "nbformat": 4,
 "nbformat_minor": 5
}
